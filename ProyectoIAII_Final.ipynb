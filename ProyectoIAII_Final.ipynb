{
  "cells": [
    {
      "cell_type": "markdown",
      "metadata": {
        "id": "view-in-github",
        "colab_type": "text"
      },
      "source": [
        "<a href=\"https://colab.research.google.com/github/griisnc/NLP_Python/blob/main/ProyectoIAII_Final.ipynb\" target=\"_parent\"><img src=\"https://colab.research.google.com/assets/colab-badge.svg\" alt=\"Open In Colab\"/></a>"
      ]
    },
    {
      "cell_type": "markdown",
      "source": [
        "# PROYECTO FINAL: Resumen con PLN\n",
        "## Inteligencia Artificial II\n",
        " <br> Mto. Manuel Chávez Pérez\n",
        "\n",
        " <br> T58B\n",
        "\n",
        "## INTEGRANTES:\n",
        " <br> Ana Karen Contreras Rodríguez - 180212\n",
        " <br> Maria De Los Angeles Zapata Vazquez - 170987\n",
        " <br> Griselda Navarrete De la Cruz - 180017"
      ],
      "metadata": {
        "id": "nIJ8UWUotj2N"
      }
    },
    {
      "cell_type": "markdown",
      "source": [
        "---------------------------------------------------------------------------------------------\n"
      ],
      "metadata": {
        "id": "ekCkQDztxmp1"
      }
    },
    {
      "cell_type": "markdown",
      "source": [
        "# INTRODUCTION\n",
        "\n",
        "The code is a text summarization tool built using Python and the NLTK library. It takes a text input, processes it using Natural Language Processing (NLP) techniques, and generates a concise summary. The summary is created by selecting the most important sentences based on word frequency and a user-defined percentage. Additionally, the code provides functionality to save the summary in both DOCX and PDF formats.\n",
        "\n",
        "Main Functions:\n",
        "\n",
        "generar_resumen(texto, porcentaje=20): This function is the core of the summarization process. It takes the input text and the desired percentage of sentences to include in the summary. It then tokenizes the text, removes stop words, calculates word frequencies, scores sentences based on word importance, and selects the top-ranked sentences to form the summary.\n",
        "\n",
        "procesar_texto(b): This function handles the interaction with the user interface. It retrieves the text input and percentage value from the widgets, calls the generar_resumen function to create the summary, and updates the output widget with the result.\n",
        "\n",
        "guardar_docx(b): This function saves the generated summary as a DOCX file. It creates a new Word document, adds the summary text, and downloads the file to the user's Colab environment.\n",
        "\n",
        "guardar_pdf(b): This function saves the generated summary as a PDF file. It utilizes the ReportLab library to create a PDF document, formats the summary text, and downloads the file.\n",
        "\n",
        "Additional Functions:\n",
        "\n",
        "dividir_texto(texto, max_ancho, fuente, tamano, canvas): This function is used by guardar_pdf to properly format the summary text within the PDF document by dividing it into lines that fit within the page width."
      ],
      "metadata": {
        "id": "OWYjtQdgfqSQ"
      }
    },
    {
      "cell_type": "markdown",
      "source": [
        "# MARCO TEORICO"
      ],
      "metadata": {
        "id": "Di-7Z0UGsOKS"
      }
    },
    {
      "cell_type": "markdown",
      "source": [
        "Este código implementa un sistema de resumen automático de textos en español utilizando técnicas de Procesamiento del Lenguaje Natural (PLN). A continuación, se describe el marco teórico que sustenta su funcionamiento:"
      ],
      "metadata": {
        "id": "dXuVZ0ErsRJS"
      }
    },
    {
      "cell_type": "markdown",
      "source": [
        "## **1. Tokenización:**\n",
        "\n",
        "- El proceso comienza con la tokenización del texto, que consiste en dividir el texto en unidades más pequeñas, como palabras y oraciones.\n",
        "- Se utiliza la biblioteca `nltk` para realizar la tokenización con las funciones `word_tokenize` (para palabras) y `sent_tokenize` (para oraciones)."
      ],
      "metadata": {
        "id": "x29xENQesxN-"
      }
    },
    {
      "cell_type": "markdown",
      "source": [
        "## **2. Eliminación de Stop Words:**\n",
        "\n",
        "- Se eliminan las \"stop words\" (palabras comunes como \"el\", \"la\", \"de\", etc.) que no aportan mucha información al significado del texto.\n",
        "- Se utiliza la lista de stop words en español proporcionada por `nltk.corpus.stopwords`.\n"
      ],
      "metadata": {
        "id": "OeA5Dxoms2aq"
      }
    },
    {
      "cell_type": "markdown",
      "source": [
        "## **3. Puntuación de Oraciones:**\n",
        "\n",
        "- Se calcula la importancia de cada oración basándose en la frecuencia de las palabras que contiene.\n",
        "- Las oraciones con palabras más frecuentes se consideran más relevantes.\n",
        "- Se utiliza la clase `Counter` de Python para contar la frecuencia de palabras."
      ],
      "metadata": {
        "id": "etdqzCcCs_1_"
      }
    },
    {
      "cell_type": "markdown",
      "source": [
        "## **4. Selección de Oraciones:**\n",
        "\n",
        "- Se selecciona un porcentaje de las oraciones más importantes para formar el resumen.\n",
        "- El porcentaje se define mediante un parámetro de entrada.\n",
        "- Se ordenan las oraciones según su puntuación y se seleccionan las primeras."
      ],
      "metadata": {
        "id": "adUAA3t9tG7d"
      }
    },
    {
      "cell_type": "markdown",
      "source": [
        "## **5. Generación del Resumen:**\n",
        "\n",
        "- Se unen las oraciones seleccionadas para crear el resumen final."
      ],
      "metadata": {
        "id": "4yHXjpG4tKH9"
      }
    },
    {
      "cell_type": "markdown",
      "source": [
        "## **6. Bibliotecas:**\n",
        "\n",
        "- `nltk`: Biblioteca principal para PLN en Python.\n",
        "- `ipywidgets`: Para crear la interfaz de usuario interactiva.\n",
        "- `docx`: Para guardar el resumen en formato .docx.\n",
        "- `reportlab`: Para guardar el resumen en formato PDF."
      ],
      "metadata": {
        "id": "6SylY_QftNoF"
      }
    },
    {
      "cell_type": "markdown",
      "source": [
        "## **7. Algoritmo:**\n",
        "\n",
        "- El algoritmo utilizado es una forma simple de resumen extractivo, que selecciona oraciones del texto original sin modificarlas.\n",
        "- Se basa en la idea de que las oraciones con palabras más frecuentes son más importantes para el significado del texto.\n"
      ],
      "metadata": {
        "id": "4fGG0vAUtQxl"
      }
    },
    {
      "cell_type": "markdown",
      "source": [
        "# INSTALACIÓN DE LIBRERÍAS"
      ],
      "metadata": {
        "id": "gyRNzZS7sZL4"
      }
    },
    {
      "cell_type": "code",
      "execution_count": null,
      "metadata": {
        "colab": {
          "base_uri": "https://localhost:8080/"
        },
        "collapsed": true,
        "id": "5wkntClGIlqu",
        "outputId": "3b468475-2652-470e-cb80-7943e0a0ae85"
      },
      "outputs": [
        {
          "output_type": "stream",
          "name": "stdout",
          "text": [
            "Requirement already satisfied: ipywidgets in /usr/local/lib/python3.10/dist-packages (7.7.1)\n",
            "Requirement already satisfied: ipykernel>=4.5.1 in /usr/local/lib/python3.10/dist-packages (from ipywidgets) (5.5.6)\n",
            "Requirement already satisfied: ipython-genutils~=0.2.0 in /usr/local/lib/python3.10/dist-packages (from ipywidgets) (0.2.0)\n",
            "Requirement already satisfied: traitlets>=4.3.1 in /usr/local/lib/python3.10/dist-packages (from ipywidgets) (5.7.1)\n",
            "Requirement already satisfied: widgetsnbextension~=3.6.0 in /usr/local/lib/python3.10/dist-packages (from ipywidgets) (3.6.10)\n",
            "Requirement already satisfied: ipython>=4.0.0 in /usr/local/lib/python3.10/dist-packages (from ipywidgets) (7.34.0)\n",
            "Requirement already satisfied: jupyterlab-widgets>=1.0.0 in /usr/local/lib/python3.10/dist-packages (from ipywidgets) (3.0.13)\n",
            "Requirement already satisfied: jupyter-client in /usr/local/lib/python3.10/dist-packages (from ipykernel>=4.5.1->ipywidgets) (6.1.12)\n",
            "Requirement already satisfied: tornado>=4.2 in /usr/local/lib/python3.10/dist-packages (from ipykernel>=4.5.1->ipywidgets) (6.3.3)\n",
            "Requirement already satisfied: setuptools>=18.5 in /usr/local/lib/python3.10/dist-packages (from ipython>=4.0.0->ipywidgets) (75.1.0)\n",
            "Collecting jedi>=0.16 (from ipython>=4.0.0->ipywidgets)\n",
            "  Downloading jedi-0.19.2-py2.py3-none-any.whl.metadata (22 kB)\n",
            "Requirement already satisfied: decorator in /usr/local/lib/python3.10/dist-packages (from ipython>=4.0.0->ipywidgets) (4.4.2)\n",
            "Requirement already satisfied: pickleshare in /usr/local/lib/python3.10/dist-packages (from ipython>=4.0.0->ipywidgets) (0.7.5)\n",
            "Requirement already satisfied: prompt-toolkit!=3.0.0,!=3.0.1,<3.1.0,>=2.0.0 in /usr/local/lib/python3.10/dist-packages (from ipython>=4.0.0->ipywidgets) (3.0.48)\n",
            "Requirement already satisfied: pygments in /usr/local/lib/python3.10/dist-packages (from ipython>=4.0.0->ipywidgets) (2.18.0)\n",
            "Requirement already satisfied: backcall in /usr/local/lib/python3.10/dist-packages (from ipython>=4.0.0->ipywidgets) (0.2.0)\n",
            "Requirement already satisfied: matplotlib-inline in /usr/local/lib/python3.10/dist-packages (from ipython>=4.0.0->ipywidgets) (0.1.7)\n",
            "Requirement already satisfied: pexpect>4.3 in /usr/local/lib/python3.10/dist-packages (from ipython>=4.0.0->ipywidgets) (4.9.0)\n",
            "Requirement already satisfied: notebook>=4.4.1 in /usr/local/lib/python3.10/dist-packages (from widgetsnbextension~=3.6.0->ipywidgets) (6.5.5)\n",
            "Requirement already satisfied: parso<0.9.0,>=0.8.4 in /usr/local/lib/python3.10/dist-packages (from jedi>=0.16->ipython>=4.0.0->ipywidgets) (0.8.4)\n",
            "Requirement already satisfied: jinja2 in /usr/local/lib/python3.10/dist-packages (from notebook>=4.4.1->widgetsnbextension~=3.6.0->ipywidgets) (3.1.4)\n",
            "Requirement already satisfied: pyzmq<25,>=17 in /usr/local/lib/python3.10/dist-packages (from notebook>=4.4.1->widgetsnbextension~=3.6.0->ipywidgets) (24.0.1)\n",
            "Requirement already satisfied: argon2-cffi in /usr/local/lib/python3.10/dist-packages (from notebook>=4.4.1->widgetsnbextension~=3.6.0->ipywidgets) (23.1.0)\n",
            "Requirement already satisfied: jupyter-core>=4.6.1 in /usr/local/lib/python3.10/dist-packages (from notebook>=4.4.1->widgetsnbextension~=3.6.0->ipywidgets) (5.7.2)\n",
            "Requirement already satisfied: nbformat in /usr/local/lib/python3.10/dist-packages (from notebook>=4.4.1->widgetsnbextension~=3.6.0->ipywidgets) (5.10.4)\n",
            "Requirement already satisfied: nbconvert>=5 in /usr/local/lib/python3.10/dist-packages (from notebook>=4.4.1->widgetsnbextension~=3.6.0->ipywidgets) (7.16.4)\n",
            "Requirement already satisfied: nest-asyncio>=1.5 in /usr/local/lib/python3.10/dist-packages (from notebook>=4.4.1->widgetsnbextension~=3.6.0->ipywidgets) (1.6.0)\n",
            "Requirement already satisfied: Send2Trash>=1.8.0 in /usr/local/lib/python3.10/dist-packages (from notebook>=4.4.1->widgetsnbextension~=3.6.0->ipywidgets) (1.8.3)\n",
            "Requirement already satisfied: terminado>=0.8.3 in /usr/local/lib/python3.10/dist-packages (from notebook>=4.4.1->widgetsnbextension~=3.6.0->ipywidgets) (0.18.1)\n",
            "Requirement already satisfied: prometheus-client in /usr/local/lib/python3.10/dist-packages (from notebook>=4.4.1->widgetsnbextension~=3.6.0->ipywidgets) (0.21.0)\n",
            "Requirement already satisfied: nbclassic>=0.4.7 in /usr/local/lib/python3.10/dist-packages (from notebook>=4.4.1->widgetsnbextension~=3.6.0->ipywidgets) (1.1.0)\n",
            "Requirement already satisfied: python-dateutil>=2.1 in /usr/local/lib/python3.10/dist-packages (from jupyter-client->ipykernel>=4.5.1->ipywidgets) (2.8.2)\n",
            "Requirement already satisfied: ptyprocess>=0.5 in /usr/local/lib/python3.10/dist-packages (from pexpect>4.3->ipython>=4.0.0->ipywidgets) (0.7.0)\n",
            "Requirement already satisfied: wcwidth in /usr/local/lib/python3.10/dist-packages (from prompt-toolkit!=3.0.0,!=3.0.1,<3.1.0,>=2.0.0->ipython>=4.0.0->ipywidgets) (0.2.13)\n",
            "Requirement already satisfied: platformdirs>=2.5 in /usr/local/lib/python3.10/dist-packages (from jupyter-core>=4.6.1->notebook>=4.4.1->widgetsnbextension~=3.6.0->ipywidgets) (4.3.6)\n",
            "Requirement already satisfied: notebook-shim>=0.2.3 in /usr/local/lib/python3.10/dist-packages (from nbclassic>=0.4.7->notebook>=4.4.1->widgetsnbextension~=3.6.0->ipywidgets) (0.2.4)\n",
            "Requirement already satisfied: beautifulsoup4 in /usr/local/lib/python3.10/dist-packages (from nbconvert>=5->notebook>=4.4.1->widgetsnbextension~=3.6.0->ipywidgets) (4.12.3)\n",
            "Requirement already satisfied: bleach!=5.0.0 in /usr/local/lib/python3.10/dist-packages (from nbconvert>=5->notebook>=4.4.1->widgetsnbextension~=3.6.0->ipywidgets) (6.2.0)\n",
            "Requirement already satisfied: defusedxml in /usr/local/lib/python3.10/dist-packages (from nbconvert>=5->notebook>=4.4.1->widgetsnbextension~=3.6.0->ipywidgets) (0.7.1)\n",
            "Requirement already satisfied: jupyterlab-pygments in /usr/local/lib/python3.10/dist-packages (from nbconvert>=5->notebook>=4.4.1->widgetsnbextension~=3.6.0->ipywidgets) (0.3.0)\n",
            "Requirement already satisfied: markupsafe>=2.0 in /usr/local/lib/python3.10/dist-packages (from nbconvert>=5->notebook>=4.4.1->widgetsnbextension~=3.6.0->ipywidgets) (3.0.2)\n",
            "Requirement already satisfied: mistune<4,>=2.0.3 in /usr/local/lib/python3.10/dist-packages (from nbconvert>=5->notebook>=4.4.1->widgetsnbextension~=3.6.0->ipywidgets) (3.0.2)\n",
            "Requirement already satisfied: nbclient>=0.5.0 in /usr/local/lib/python3.10/dist-packages (from nbconvert>=5->notebook>=4.4.1->widgetsnbextension~=3.6.0->ipywidgets) (0.10.0)\n",
            "Requirement already satisfied: packaging in /usr/local/lib/python3.10/dist-packages (from nbconvert>=5->notebook>=4.4.1->widgetsnbextension~=3.6.0->ipywidgets) (24.2)\n",
            "Requirement already satisfied: pandocfilters>=1.4.1 in /usr/local/lib/python3.10/dist-packages (from nbconvert>=5->notebook>=4.4.1->widgetsnbextension~=3.6.0->ipywidgets) (1.5.1)\n",
            "Requirement already satisfied: tinycss2 in /usr/local/lib/python3.10/dist-packages (from nbconvert>=5->notebook>=4.4.1->widgetsnbextension~=3.6.0->ipywidgets) (1.4.0)\n",
            "Requirement already satisfied: fastjsonschema>=2.15 in /usr/local/lib/python3.10/dist-packages (from nbformat->notebook>=4.4.1->widgetsnbextension~=3.6.0->ipywidgets) (2.20.0)\n",
            "Requirement already satisfied: jsonschema>=2.6 in /usr/local/lib/python3.10/dist-packages (from nbformat->notebook>=4.4.1->widgetsnbextension~=3.6.0->ipywidgets) (4.23.0)\n",
            "Requirement already satisfied: six>=1.5 in /usr/local/lib/python3.10/dist-packages (from python-dateutil>=2.1->jupyter-client->ipykernel>=4.5.1->ipywidgets) (1.16.0)\n",
            "Requirement already satisfied: argon2-cffi-bindings in /usr/local/lib/python3.10/dist-packages (from argon2-cffi->notebook>=4.4.1->widgetsnbextension~=3.6.0->ipywidgets) (21.2.0)\n",
            "Requirement already satisfied: webencodings in /usr/local/lib/python3.10/dist-packages (from bleach!=5.0.0->nbconvert>=5->notebook>=4.4.1->widgetsnbextension~=3.6.0->ipywidgets) (0.5.1)\n",
            "Requirement already satisfied: attrs>=22.2.0 in /usr/local/lib/python3.10/dist-packages (from jsonschema>=2.6->nbformat->notebook>=4.4.1->widgetsnbextension~=3.6.0->ipywidgets) (24.2.0)\n",
            "Requirement already satisfied: jsonschema-specifications>=2023.03.6 in /usr/local/lib/python3.10/dist-packages (from jsonschema>=2.6->nbformat->notebook>=4.4.1->widgetsnbextension~=3.6.0->ipywidgets) (2024.10.1)\n",
            "Requirement already satisfied: referencing>=0.28.4 in /usr/local/lib/python3.10/dist-packages (from jsonschema>=2.6->nbformat->notebook>=4.4.1->widgetsnbextension~=3.6.0->ipywidgets) (0.35.1)\n",
            "Requirement already satisfied: rpds-py>=0.7.1 in /usr/local/lib/python3.10/dist-packages (from jsonschema>=2.6->nbformat->notebook>=4.4.1->widgetsnbextension~=3.6.0->ipywidgets) (0.21.0)\n",
            "Requirement already satisfied: jupyter-server<3,>=1.8 in /usr/local/lib/python3.10/dist-packages (from notebook-shim>=0.2.3->nbclassic>=0.4.7->notebook>=4.4.1->widgetsnbextension~=3.6.0->ipywidgets) (1.24.0)\n",
            "Requirement already satisfied: cffi>=1.0.1 in /usr/local/lib/python3.10/dist-packages (from argon2-cffi-bindings->argon2-cffi->notebook>=4.4.1->widgetsnbextension~=3.6.0->ipywidgets) (1.17.1)\n",
            "Requirement already satisfied: soupsieve>1.2 in /usr/local/lib/python3.10/dist-packages (from beautifulsoup4->nbconvert>=5->notebook>=4.4.1->widgetsnbextension~=3.6.0->ipywidgets) (2.6)\n",
            "Requirement already satisfied: pycparser in /usr/local/lib/python3.10/dist-packages (from cffi>=1.0.1->argon2-cffi-bindings->argon2-cffi->notebook>=4.4.1->widgetsnbextension~=3.6.0->ipywidgets) (2.22)\n",
            "Requirement already satisfied: anyio<4,>=3.1.0 in /usr/local/lib/python3.10/dist-packages (from jupyter-server<3,>=1.8->notebook-shim>=0.2.3->nbclassic>=0.4.7->notebook>=4.4.1->widgetsnbextension~=3.6.0->ipywidgets) (3.7.1)\n",
            "Requirement already satisfied: websocket-client in /usr/local/lib/python3.10/dist-packages (from jupyter-server<3,>=1.8->notebook-shim>=0.2.3->nbclassic>=0.4.7->notebook>=4.4.1->widgetsnbextension~=3.6.0->ipywidgets) (1.8.0)\n",
            "Requirement already satisfied: idna>=2.8 in /usr/local/lib/python3.10/dist-packages (from anyio<4,>=3.1.0->jupyter-server<3,>=1.8->notebook-shim>=0.2.3->nbclassic>=0.4.7->notebook>=4.4.1->widgetsnbextension~=3.6.0->ipywidgets) (3.10)\n",
            "Requirement already satisfied: sniffio>=1.1 in /usr/local/lib/python3.10/dist-packages (from anyio<4,>=3.1.0->jupyter-server<3,>=1.8->notebook-shim>=0.2.3->nbclassic>=0.4.7->notebook>=4.4.1->widgetsnbextension~=3.6.0->ipywidgets) (1.3.1)\n",
            "Requirement already satisfied: exceptiongroup in /usr/local/lib/python3.10/dist-packages (from anyio<4,>=3.1.0->jupyter-server<3,>=1.8->notebook-shim>=0.2.3->nbclassic>=0.4.7->notebook>=4.4.1->widgetsnbextension~=3.6.0->ipywidgets) (1.2.2)\n",
            "Downloading jedi-0.19.2-py2.py3-none-any.whl (1.6 MB)\n",
            "\u001b[2K   \u001b[90m━━━━━━━━━━━━━━━━━━━━━━━━━━━━━━━━━━━━━━━━\u001b[0m \u001b[32m1.6/1.6 MB\u001b[0m \u001b[31m19.8 MB/s\u001b[0m eta \u001b[36m0:00:00\u001b[0m\n",
            "\u001b[?25hInstalling collected packages: jedi\n",
            "Successfully installed jedi-0.19.2\n"
          ]
        }
      ],
      "source": [
        "# Instalar ipywidgets si no está instalado\n",
        "%pip install ipywidgets #  permite crear widgets interactivos (como deslizadores, botones, menús desplegables, etc.) en Jupyter Notebook.\n",
        "# Estos widgets son útiles para interactuar con datos o personalizar gráficos en tiempo real dentro del entorno del notebook."
      ]
    },
    {
      "cell_type": "code",
      "execution_count": null,
      "metadata": {
        "colab": {
          "base_uri": "https://localhost:8080/"
        },
        "collapsed": true,
        "id": "RSI3sc3AI5KV",
        "outputId": "d61a28ed-0ecc-4e6a-8600-5a2e645270a1"
      },
      "outputs": [
        {
          "output_type": "stream",
          "name": "stdout",
          "text": [
            "Requirement already satisfied: ipywidgets in /usr/local/lib/python3.10/dist-packages (7.7.1)\n",
            "Collecting python-docx\n",
            "  Downloading python_docx-1.1.2-py3-none-any.whl.metadata (2.0 kB)\n",
            "Collecting reportlab\n",
            "  Downloading reportlab-4.2.5-py3-none-any.whl.metadata (1.5 kB)\n",
            "Requirement already satisfied: ipykernel>=4.5.1 in /usr/local/lib/python3.10/dist-packages (from ipywidgets) (5.5.6)\n",
            "Requirement already satisfied: ipython-genutils~=0.2.0 in /usr/local/lib/python3.10/dist-packages (from ipywidgets) (0.2.0)\n",
            "Requirement already satisfied: traitlets>=4.3.1 in /usr/local/lib/python3.10/dist-packages (from ipywidgets) (5.7.1)\n",
            "Requirement already satisfied: widgetsnbextension~=3.6.0 in /usr/local/lib/python3.10/dist-packages (from ipywidgets) (3.6.10)\n",
            "Requirement already satisfied: ipython>=4.0.0 in /usr/local/lib/python3.10/dist-packages (from ipywidgets) (7.34.0)\n",
            "Requirement already satisfied: jupyterlab-widgets>=1.0.0 in /usr/local/lib/python3.10/dist-packages (from ipywidgets) (3.0.13)\n",
            "Requirement already satisfied: lxml>=3.1.0 in /usr/local/lib/python3.10/dist-packages (from python-docx) (5.3.0)\n",
            "Requirement already satisfied: typing-extensions>=4.9.0 in /usr/local/lib/python3.10/dist-packages (from python-docx) (4.12.2)\n",
            "Requirement already satisfied: pillow>=9.0.0 in /usr/local/lib/python3.10/dist-packages (from reportlab) (11.0.0)\n",
            "Requirement already satisfied: chardet in /usr/local/lib/python3.10/dist-packages (from reportlab) (5.2.0)\n",
            "Requirement already satisfied: jupyter-client in /usr/local/lib/python3.10/dist-packages (from ipykernel>=4.5.1->ipywidgets) (6.1.12)\n",
            "Requirement already satisfied: tornado>=4.2 in /usr/local/lib/python3.10/dist-packages (from ipykernel>=4.5.1->ipywidgets) (6.3.3)\n",
            "Requirement already satisfied: setuptools>=18.5 in /usr/local/lib/python3.10/dist-packages (from ipython>=4.0.0->ipywidgets) (75.1.0)\n",
            "Requirement already satisfied: jedi>=0.16 in /usr/local/lib/python3.10/dist-packages (from ipython>=4.0.0->ipywidgets) (0.19.2)\n",
            "Requirement already satisfied: decorator in /usr/local/lib/python3.10/dist-packages (from ipython>=4.0.0->ipywidgets) (4.4.2)\n",
            "Requirement already satisfied: pickleshare in /usr/local/lib/python3.10/dist-packages (from ipython>=4.0.0->ipywidgets) (0.7.5)\n",
            "Requirement already satisfied: prompt-toolkit!=3.0.0,!=3.0.1,<3.1.0,>=2.0.0 in /usr/local/lib/python3.10/dist-packages (from ipython>=4.0.0->ipywidgets) (3.0.48)\n",
            "Requirement already satisfied: pygments in /usr/local/lib/python3.10/dist-packages (from ipython>=4.0.0->ipywidgets) (2.18.0)\n",
            "Requirement already satisfied: backcall in /usr/local/lib/python3.10/dist-packages (from ipython>=4.0.0->ipywidgets) (0.2.0)\n",
            "Requirement already satisfied: matplotlib-inline in /usr/local/lib/python3.10/dist-packages (from ipython>=4.0.0->ipywidgets) (0.1.7)\n",
            "Requirement already satisfied: pexpect>4.3 in /usr/local/lib/python3.10/dist-packages (from ipython>=4.0.0->ipywidgets) (4.9.0)\n",
            "Requirement already satisfied: notebook>=4.4.1 in /usr/local/lib/python3.10/dist-packages (from widgetsnbextension~=3.6.0->ipywidgets) (6.5.5)\n",
            "Requirement already satisfied: parso<0.9.0,>=0.8.4 in /usr/local/lib/python3.10/dist-packages (from jedi>=0.16->ipython>=4.0.0->ipywidgets) (0.8.4)\n",
            "Requirement already satisfied: jinja2 in /usr/local/lib/python3.10/dist-packages (from notebook>=4.4.1->widgetsnbextension~=3.6.0->ipywidgets) (3.1.4)\n",
            "Requirement already satisfied: pyzmq<25,>=17 in /usr/local/lib/python3.10/dist-packages (from notebook>=4.4.1->widgetsnbextension~=3.6.0->ipywidgets) (24.0.1)\n",
            "Requirement already satisfied: argon2-cffi in /usr/local/lib/python3.10/dist-packages (from notebook>=4.4.1->widgetsnbextension~=3.6.0->ipywidgets) (23.1.0)\n",
            "Requirement already satisfied: jupyter-core>=4.6.1 in /usr/local/lib/python3.10/dist-packages (from notebook>=4.4.1->widgetsnbextension~=3.6.0->ipywidgets) (5.7.2)\n",
            "Requirement already satisfied: nbformat in /usr/local/lib/python3.10/dist-packages (from notebook>=4.4.1->widgetsnbextension~=3.6.0->ipywidgets) (5.10.4)\n",
            "Requirement already satisfied: nbconvert>=5 in /usr/local/lib/python3.10/dist-packages (from notebook>=4.4.1->widgetsnbextension~=3.6.0->ipywidgets) (7.16.4)\n",
            "Requirement already satisfied: nest-asyncio>=1.5 in /usr/local/lib/python3.10/dist-packages (from notebook>=4.4.1->widgetsnbextension~=3.6.0->ipywidgets) (1.6.0)\n",
            "Requirement already satisfied: Send2Trash>=1.8.0 in /usr/local/lib/python3.10/dist-packages (from notebook>=4.4.1->widgetsnbextension~=3.6.0->ipywidgets) (1.8.3)\n",
            "Requirement already satisfied: terminado>=0.8.3 in /usr/local/lib/python3.10/dist-packages (from notebook>=4.4.1->widgetsnbextension~=3.6.0->ipywidgets) (0.18.1)\n",
            "Requirement already satisfied: prometheus-client in /usr/local/lib/python3.10/dist-packages (from notebook>=4.4.1->widgetsnbextension~=3.6.0->ipywidgets) (0.21.0)\n",
            "Requirement already satisfied: nbclassic>=0.4.7 in /usr/local/lib/python3.10/dist-packages (from notebook>=4.4.1->widgetsnbextension~=3.6.0->ipywidgets) (1.1.0)\n",
            "Requirement already satisfied: python-dateutil>=2.1 in /usr/local/lib/python3.10/dist-packages (from jupyter-client->ipykernel>=4.5.1->ipywidgets) (2.8.2)\n",
            "Requirement already satisfied: ptyprocess>=0.5 in /usr/local/lib/python3.10/dist-packages (from pexpect>4.3->ipython>=4.0.0->ipywidgets) (0.7.0)\n",
            "Requirement already satisfied: wcwidth in /usr/local/lib/python3.10/dist-packages (from prompt-toolkit!=3.0.0,!=3.0.1,<3.1.0,>=2.0.0->ipython>=4.0.0->ipywidgets) (0.2.13)\n",
            "Requirement already satisfied: platformdirs>=2.5 in /usr/local/lib/python3.10/dist-packages (from jupyter-core>=4.6.1->notebook>=4.4.1->widgetsnbextension~=3.6.0->ipywidgets) (4.3.6)\n",
            "Requirement already satisfied: notebook-shim>=0.2.3 in /usr/local/lib/python3.10/dist-packages (from nbclassic>=0.4.7->notebook>=4.4.1->widgetsnbextension~=3.6.0->ipywidgets) (0.2.4)\n",
            "Requirement already satisfied: beautifulsoup4 in /usr/local/lib/python3.10/dist-packages (from nbconvert>=5->notebook>=4.4.1->widgetsnbextension~=3.6.0->ipywidgets) (4.12.3)\n",
            "Requirement already satisfied: bleach!=5.0.0 in /usr/local/lib/python3.10/dist-packages (from nbconvert>=5->notebook>=4.4.1->widgetsnbextension~=3.6.0->ipywidgets) (6.2.0)\n",
            "Requirement already satisfied: defusedxml in /usr/local/lib/python3.10/dist-packages (from nbconvert>=5->notebook>=4.4.1->widgetsnbextension~=3.6.0->ipywidgets) (0.7.1)\n",
            "Requirement already satisfied: jupyterlab-pygments in /usr/local/lib/python3.10/dist-packages (from nbconvert>=5->notebook>=4.4.1->widgetsnbextension~=3.6.0->ipywidgets) (0.3.0)\n",
            "Requirement already satisfied: markupsafe>=2.0 in /usr/local/lib/python3.10/dist-packages (from nbconvert>=5->notebook>=4.4.1->widgetsnbextension~=3.6.0->ipywidgets) (3.0.2)\n",
            "Requirement already satisfied: mistune<4,>=2.0.3 in /usr/local/lib/python3.10/dist-packages (from nbconvert>=5->notebook>=4.4.1->widgetsnbextension~=3.6.0->ipywidgets) (3.0.2)\n",
            "Requirement already satisfied: nbclient>=0.5.0 in /usr/local/lib/python3.10/dist-packages (from nbconvert>=5->notebook>=4.4.1->widgetsnbextension~=3.6.0->ipywidgets) (0.10.0)\n",
            "Requirement already satisfied: packaging in /usr/local/lib/python3.10/dist-packages (from nbconvert>=5->notebook>=4.4.1->widgetsnbextension~=3.6.0->ipywidgets) (24.2)\n",
            "Requirement already satisfied: pandocfilters>=1.4.1 in /usr/local/lib/python3.10/dist-packages (from nbconvert>=5->notebook>=4.4.1->widgetsnbextension~=3.6.0->ipywidgets) (1.5.1)\n",
            "Requirement already satisfied: tinycss2 in /usr/local/lib/python3.10/dist-packages (from nbconvert>=5->notebook>=4.4.1->widgetsnbextension~=3.6.0->ipywidgets) (1.4.0)\n",
            "Requirement already satisfied: fastjsonschema>=2.15 in /usr/local/lib/python3.10/dist-packages (from nbformat->notebook>=4.4.1->widgetsnbextension~=3.6.0->ipywidgets) (2.20.0)\n",
            "Requirement already satisfied: jsonschema>=2.6 in /usr/local/lib/python3.10/dist-packages (from nbformat->notebook>=4.4.1->widgetsnbextension~=3.6.0->ipywidgets) (4.23.0)\n",
            "Requirement already satisfied: six>=1.5 in /usr/local/lib/python3.10/dist-packages (from python-dateutil>=2.1->jupyter-client->ipykernel>=4.5.1->ipywidgets) (1.16.0)\n",
            "Requirement already satisfied: argon2-cffi-bindings in /usr/local/lib/python3.10/dist-packages (from argon2-cffi->notebook>=4.4.1->widgetsnbextension~=3.6.0->ipywidgets) (21.2.0)\n",
            "Requirement already satisfied: webencodings in /usr/local/lib/python3.10/dist-packages (from bleach!=5.0.0->nbconvert>=5->notebook>=4.4.1->widgetsnbextension~=3.6.0->ipywidgets) (0.5.1)\n",
            "Requirement already satisfied: attrs>=22.2.0 in /usr/local/lib/python3.10/dist-packages (from jsonschema>=2.6->nbformat->notebook>=4.4.1->widgetsnbextension~=3.6.0->ipywidgets) (24.2.0)\n",
            "Requirement already satisfied: jsonschema-specifications>=2023.03.6 in /usr/local/lib/python3.10/dist-packages (from jsonschema>=2.6->nbformat->notebook>=4.4.1->widgetsnbextension~=3.6.0->ipywidgets) (2024.10.1)\n",
            "Requirement already satisfied: referencing>=0.28.4 in /usr/local/lib/python3.10/dist-packages (from jsonschema>=2.6->nbformat->notebook>=4.4.1->widgetsnbextension~=3.6.0->ipywidgets) (0.35.1)\n",
            "Requirement already satisfied: rpds-py>=0.7.1 in /usr/local/lib/python3.10/dist-packages (from jsonschema>=2.6->nbformat->notebook>=4.4.1->widgetsnbextension~=3.6.0->ipywidgets) (0.21.0)\n",
            "Requirement already satisfied: jupyter-server<3,>=1.8 in /usr/local/lib/python3.10/dist-packages (from notebook-shim>=0.2.3->nbclassic>=0.4.7->notebook>=4.4.1->widgetsnbextension~=3.6.0->ipywidgets) (1.24.0)\n",
            "Requirement already satisfied: cffi>=1.0.1 in /usr/local/lib/python3.10/dist-packages (from argon2-cffi-bindings->argon2-cffi->notebook>=4.4.1->widgetsnbextension~=3.6.0->ipywidgets) (1.17.1)\n",
            "Requirement already satisfied: soupsieve>1.2 in /usr/local/lib/python3.10/dist-packages (from beautifulsoup4->nbconvert>=5->notebook>=4.4.1->widgetsnbextension~=3.6.0->ipywidgets) (2.6)\n",
            "Requirement already satisfied: pycparser in /usr/local/lib/python3.10/dist-packages (from cffi>=1.0.1->argon2-cffi-bindings->argon2-cffi->notebook>=4.4.1->widgetsnbextension~=3.6.0->ipywidgets) (2.22)\n",
            "Requirement already satisfied: anyio<4,>=3.1.0 in /usr/local/lib/python3.10/dist-packages (from jupyter-server<3,>=1.8->notebook-shim>=0.2.3->nbclassic>=0.4.7->notebook>=4.4.1->widgetsnbextension~=3.6.0->ipywidgets) (3.7.1)\n",
            "Requirement already satisfied: websocket-client in /usr/local/lib/python3.10/dist-packages (from jupyter-server<3,>=1.8->notebook-shim>=0.2.3->nbclassic>=0.4.7->notebook>=4.4.1->widgetsnbextension~=3.6.0->ipywidgets) (1.8.0)\n",
            "Requirement already satisfied: idna>=2.8 in /usr/local/lib/python3.10/dist-packages (from anyio<4,>=3.1.0->jupyter-server<3,>=1.8->notebook-shim>=0.2.3->nbclassic>=0.4.7->notebook>=4.4.1->widgetsnbextension~=3.6.0->ipywidgets) (3.10)\n",
            "Requirement already satisfied: sniffio>=1.1 in /usr/local/lib/python3.10/dist-packages (from anyio<4,>=3.1.0->jupyter-server<3,>=1.8->notebook-shim>=0.2.3->nbclassic>=0.4.7->notebook>=4.4.1->widgetsnbextension~=3.6.0->ipywidgets) (1.3.1)\n",
            "Requirement already satisfied: exceptiongroup in /usr/local/lib/python3.10/dist-packages (from anyio<4,>=3.1.0->jupyter-server<3,>=1.8->notebook-shim>=0.2.3->nbclassic>=0.4.7->notebook>=4.4.1->widgetsnbextension~=3.6.0->ipywidgets) (1.2.2)\n",
            "Downloading python_docx-1.1.2-py3-none-any.whl (244 kB)\n",
            "\u001b[2K   \u001b[90m━━━━━━━━━━━━━━━━━━━━━━━━━━━━━━━━━━━━━━━━\u001b[0m \u001b[32m244.3/244.3 kB\u001b[0m \u001b[31m4.9 MB/s\u001b[0m eta \u001b[36m0:00:00\u001b[0m\n",
            "\u001b[?25hDownloading reportlab-4.2.5-py3-none-any.whl (1.9 MB)\n",
            "\u001b[2K   \u001b[90m━━━━━━━━━━━━━━━━━━━━━━━━━━━━━━━━━━━━━━━━\u001b[0m \u001b[32m1.9/1.9 MB\u001b[0m \u001b[31m34.8 MB/s\u001b[0m eta \u001b[36m0:00:00\u001b[0m\n",
            "\u001b[?25hInstalling collected packages: reportlab, python-docx\n",
            "Successfully installed python-docx-1.1.2 reportlab-4.2.5\n"
          ]
        }
      ],
      "source": [
        "# Instalar bibliotecas necesarias\n",
        "%pip install ipywidgets python-docx reportlab # Es una biblioteca para crear, modificar y leer documentos de Microsoft Word (.docx) desde Python."
      ]
    },
    {
      "cell_type": "code",
      "source": [
        "%pip install reportlab #librería para generar PDF en Python"
      ],
      "metadata": {
        "colab": {
          "base_uri": "https://localhost:8080/"
        },
        "id": "J3FRv8hrUjy5",
        "outputId": "39ab6621-fd6f-474a-c806-a0cbcfb93e43"
      },
      "execution_count": null,
      "outputs": [
        {
          "output_type": "stream",
          "name": "stdout",
          "text": [
            "Requirement already satisfied: reportlab in /usr/local/lib/python3.10/dist-packages (4.2.5)\n",
            "Requirement already satisfied: pillow>=9.0.0 in /usr/local/lib/python3.10/dist-packages (from reportlab) (11.0.0)\n",
            "Requirement already satisfied: chardet in /usr/local/lib/python3.10/dist-packages (from reportlab) (5.2.0)\n"
          ]
        }
      ]
    },
    {
      "cell_type": "markdown",
      "source": [
        "# LIBRERÍAS"
      ],
      "metadata": {
        "id": "eUv-Cm_0sgRq"
      }
    },
    {
      "cell_type": "code",
      "execution_count": null,
      "metadata": {
        "id": "_v_0qqNlI7C1"
      },
      "outputs": [],
      "source": [
        "import nltk  # Importa la biblioteca Natural Language Toolkit (NLTK) para el procesamiento del lenguaje natural.\n",
        "from nltk.corpus import stopwords  # Importa la colección de stop words (palabras comunes que se ignoran en el análisis) de NLTK.\n",
        "from nltk.tokenize import word_tokenize, sent_tokenize  # Importa las funciones para tokenizar (dividir) texto en palabras (word_tokenize) y oraciones (sent_tokenize).\n",
        "from collections import Counter  # Importa la clase Counter para contar la frecuencia de elementos (en este caso, palabras).\n",
        "import string  # Importa el módulo string, que contiene funciones y constantes para trabajar con cadenas de texto, incluyendo signos de puntuación.\n",
        "import ipywidgets as widgets  # Importa la biblioteca ipywidgets para crear widgets interactivos en Jupyter Notebooks y Google Colab.\n",
        "from IPython.display import display  # Importa la función display para mostrar los widgets en la salida de la celda.\n",
        "from docx import Document  # Importa la clase Document de la biblioteca python-docx para crear y manipular documentos de Word (.docx).\n",
        "from reportlab.pdfgen import canvas  # Importa la clase canvas de la biblioteca ReportLab para crear documentos PDF.\n",
        "from google.colab import files  # Importa el módulo files para interactuar con el sistema de archivos de Google Colab, como descargar archivos.\n"
      ]
    },
    {
      "cell_type": "code",
      "source": [
        "from reportlab.lib.pagesizes import A4  # Importa la constante A4 que define el tamaño de página A4 en puntos, desde el módulo pagesizes de la biblioteca ReportLab.\n",
        "from reportlab.pdfgen import canvas  # Importa la clase canvas desde el módulo pdfgen de la biblioteca ReportLab, que se utiliza para crear y manipular documentos PDF."
      ],
      "metadata": {
        "id": "j4hdps_HUq6p"
      },
      "execution_count": null,
      "outputs": []
    },
    {
      "cell_type": "code",
      "execution_count": null,
      "metadata": {
        "colab": {
          "base_uri": "https://localhost:8080/"
        },
        "collapsed": true,
        "id": "8W9swGNLI7Fr",
        "outputId": "65165c65-7cd0-4154-cca3-19607c7ae553"
      },
      "outputs": [
        {
          "output_type": "stream",
          "name": "stderr",
          "text": [
            "[nltk_data] Downloading package punkt to /root/nltk_data...\n",
            "[nltk_data]   Unzipping tokenizers/punkt.zip.\n",
            "[nltk_data] Downloading package stopwords to /root/nltk_data...\n",
            "[nltk_data]   Unzipping corpora/stopwords.zip.\n",
            "[nltk_data] Downloading package punkt_tab to /root/nltk_data...\n",
            "[nltk_data]   Unzipping tokenizers/punkt_tab.zip.\n"
          ]
        },
        {
          "output_type": "execute_result",
          "data": {
            "text/plain": [
              "True"
            ]
          },
          "metadata": {},
          "execution_count": 6
        }
      ],
      "source": [
        "# Descargar recursos de NLTK (solo si no están previamente descargados)\n",
        "nltk.download('punkt')  # Descarga los datos necesarios para la tokenización de oraciones usando el tokenizador 'punkt'.\n",
        "nltk.download('stopwords')  # Descarga la lista de stop words (palabras comunes que se ignoran en el análisis) para el idioma español.\n",
        "nltk.download('punkt_tab') #Descarga un tokenizador"
      ]
    },
    {
      "cell_type": "markdown",
      "source": [
        "# Funciones"
      ],
      "metadata": {
        "id": "hJl0Xvnnuph4"
      }
    },
    {
      "cell_type": "markdown",
      "source": [
        "## Procesamiento de texto"
      ],
      "metadata": {
        "id": "TS-FSJXvxNHi"
      }
    },
    {
      "cell_type": "code",
      "execution_count": null,
      "metadata": {
        "id": "omKHpUupI7Iv"
      },
      "outputs": [],
      "source": [
        "def generar_resumen(texto, porcentaje=20):\n",
        "    \"\"\"\n",
        "    Genera un resumen del texto seleccionando el porcentaje de oraciones más importantes.\n",
        "\n",
        "    :param texto: Texto completo del cual generar el resumen.\n",
        "    :param porcentaje: Porcentaje de oraciones a incluir en el resumen (1-100).\n",
        "    :return: Resumen generado.\n",
        "    \"\"\"\n",
        "    if not texto.strip():\n",
        "        return \"No se ha proporcionado texto para resumir.\"\n",
        "\n",
        "    # Dividir texto en oraciones\n",
        "    oraciones = sent_tokenize(texto)\n",
        "\n",
        "    # Calcular la cantidad de oraciones a incluir en el resumen según el porcentaje\n",
        "    num_oraciones = max(1, int(len(oraciones) * porcentaje / 100))\n",
        "\n",
        "    # Tokenizar palabras y limpiar texto\n",
        "    palabras = word_tokenize(texto.lower())\n",
        "    palabras = [palabra for palabra in palabras if palabra not in stopwords.words('spanish') and palabra not in string.punctuation]\n",
        "\n",
        "    # Calcular frecuencia de palabras\n",
        "    frecuencias = Counter(palabras)\n",
        "\n",
        "    # Puntuar oraciones según la suma de frecuencias de palabras\n",
        "    puntuaciones = {}\n",
        "    for oracion in oraciones:\n",
        "        for palabra in word_tokenize(oracion.lower()):\n",
        "            if palabra in frecuencias:\n",
        "                puntuaciones[oracion] = puntuaciones.get(oracion, 0) + frecuencias[palabra]\n",
        "\n",
        "    # Seleccionar las oraciones más relevantes\n",
        "    oraciones_importantes = sorted(puntuaciones, key=puntuaciones.get, reverse=True)[:num_oraciones]\n",
        "\n",
        "    # Crear resumen\n",
        "    resumen = \" \".join(oraciones_importantes)\n",
        "    return resumen"
      ]
    },
    {
      "cell_type": "code",
      "execution_count": null,
      "metadata": {
        "id": "3G24tjb2JAu0"
      },
      "outputs": [],
      "source": [
        "def procesar_texto(b):\n",
        "  \"\"\"\n",
        "  Procesa el texto de entrada para generar un resumen.\n",
        "\n",
        "  Esta función toma el texto del widget `entrada_texto`, obtiene el porcentaje\n",
        "  del widget `porcentaje_widget`, llama a la función `generar_resumen` para\n",
        "  crear el resumen y luego actualiza el widget `salida_texto` con el resultado.  \"\"\"\n",
        "\n",
        "  texto = entrada_texto.value  # Obtiene el texto del widget entrada_texto\n",
        "  porcentaje = porcentaje_widget.value  # Obtiene el porcentaje del widget porcentaje_widget\n",
        "  resumen = generar_resumen(texto, porcentaje)  # Llama a la función generar_resumen para crear el resumen\n",
        "  salida_texto.value = resumen  # Actualiza el widget salida_texto con el resumen\n"
      ]
    },
    {
      "cell_type": "markdown",
      "source": [
        "## Guardar en .docx\n",
        "\n",
        "Esta función toma el resumen generado, lo formatea en un documento de Word, lo guarda con un nombre específico y luego lo descarga para que el usuario pueda acceder a él."
      ],
      "metadata": {
        "id": "RBanKv6_vtQD"
      }
    },
    {
      "cell_type": "code",
      "execution_count": null,
      "metadata": {
        "id": "YqCkMGe6JBJt"
      },
      "outputs": [],
      "source": [
        "# Función para guardar el resumen en un archivo .docx\n",
        "def guardar_docx(b):\n",
        "    \"\"\"\n",
        "    Guarda el resumen generado en un archivo .docx.\n",
        "    Esta función toma el resumen del widget `salida_texto`, lo inserta en un documento de Word\n",
        "    y luego lo guarda con el nombre \"resumen.docx\" y lo descarga en el entorno de Colab.\n",
        "    Args:\n",
        "        b: El objeto de evento del botón (no se utiliza en la función, pero es necesario para la función on_click de ipywidgets).\n",
        "    Returns:\n",
        "        None\n",
        "    \"\"\"\n",
        "    resumen = salida_texto.value  # Obtiene el texto del widget salida_texto\n",
        "    if not resumen.strip():  # Verifica si el resumen está vacío\n",
        "        print(\"No hay resumen para guardar.\")\n",
        "        return  # Sale de la función si el resumen está vacío\n",
        "\n",
        "    doc = Document()  # Crea un nuevo documento de Word\n",
        "    doc.add_heading('Resumen', level=1)  # Agrega un título al documento\n",
        "    doc.add_paragraph(resumen)  # Agrega el resumen como un párrafo\n",
        "    filename = \"resumen.docx\"  # Define el nombre del archivo\n",
        "    doc.save(filename)  # Guarda el documento en el archivo\n",
        "    files.download(filename)  # Descarga el archivo en el entorno de Colab"
      ]
    },
    {
      "cell_type": "code",
      "source": [
        "##Contiene herramientas como la manipulación de imágenes, cadenas de texto, o datos relacionados con la creación de contenido en PDF.\n",
        "from reportlab.lib import utils"
      ],
      "metadata": {
        "id": "jlUg5Jv9nMZt"
      },
      "execution_count": null,
      "outputs": []
    },
    {
      "cell_type": "markdown",
      "source": [
        "## Guardar en PDF"
      ],
      "metadata": {
        "id": "YGlq_sU_xTDd"
      }
    },
    {
      "cell_type": "markdown",
      "source": [
        "Para que el código respete los saltos de línea existentes en el texto del resumen, podemos dividir primero el texto en párrafos utilizando splitlines(). Luego, procesamos cada línea individualmente, ajustándola al ancho máximo permitido. Esto garantiza que el formato original del texto, incluidos los saltos de línea manuales, se conserve en el PDF."
      ],
      "metadata": {
        "id": "DqDFtUGfxd_9"
      }
    },
    {
      "cell_type": "code",
      "source": [
        "def dividir_texto(texto, max_ancho, fuente, tamano, canvas): # Función para dividir el texto en líneas ajustadas al ancho de la página\n",
        "    palabras = texto.split()  # Dividir el texto en palabras\n",
        "    lineas = []\n",
        "    linea_actual = \"\"\n",
        "    espacio = \" \"\n",
        "\n",
        "\n",
        "    # Iterar sobre las palabras y construir líneas\n",
        "    for palabra in palabras:\n",
        "        # Medir el ancho de la línea si se agrega la siguiente palabra\n",
        "        if canvas.stringWidth(linea_actual + palabra + espacio, fuente, tamano) <= max_ancho:\n",
        "            linea_actual += palabra + espacio\n",
        "        else:\n",
        "            lineas.append(linea_actual.strip())\n",
        "            linea_actual = palabra + espacio\n",
        "\n",
        "    # Agregar la última línea\n",
        "    if linea_actual:\n",
        "        lineas.append(linea_actual.strip())\n",
        "    return lineas"
      ],
      "metadata": {
        "id": "o93GWV0SodD4"
      },
      "execution_count": null,
      "outputs": []
    },
    {
      "cell_type": "code",
      "source": [
        "# Función para guardar el resumen en un archivo PDF respetando saltos de línea\n",
        "def guardar_pdf(b):\n",
        "    resumen = salida_texto.value  # Asegúrate de que salida_texto sea tu componente de entrada\n",
        "    if not resumen.strip():\n",
        "        print(\"No hay resumen para guardar.\")\n",
        "        return\n",
        "\n",
        "    w, h = A4  # Tamaño de página (ancho, alto)\n",
        "    margen_x = 50  # Margen izquierdo\n",
        "    margen_y = 50  # Margen inferior\n",
        "    espacio_entre_lineas = 14  # Espacio entre líneas\n",
        "    max_ancho_texto = w - 2 * margen_x  # Ancho máximo de texto en la página\n",
        "\n",
        "    filename = \"resumen.pdf\"\n",
        "    c = canvas.Canvas(filename, pagesize=A4)\n",
        "    c.setFont(\"Helvetica\", 10)\n",
        "\n",
        "    # Dibujar título\n",
        "    c.drawString(margen_x, h - margen_y, \"Resumen:\")\n",
        "\n",
        "    # Dividir el texto en párrafos respetando saltos de línea\n",
        "    parrafos = resumen.splitlines()  # Dividir texto por saltos de línea\n",
        "    y_pos = h - margen_y - 20  # Ajuste inicial para el texto\n",
        "\n",
        "    for parrafo in parrafos:\n",
        "        if not parrafo.strip():  # Saltar líneas vacías\n",
        "            y_pos -= espacio_entre_lineas\n",
        "            continue\n",
        "\n",
        "        # Dividir el párrafo en líneas ajustadas al ancho máximo\n",
        "        lineas = dividir_texto(parrafo, max_ancho_texto, \"Helvetica\", 10, c)\n",
        "\n",
        "        for linea in lineas:\n",
        "            if y_pos < margen_y:  # Verificar si hay espacio suficiente en la página\n",
        "                c.showPage()  # Crear nueva página\n",
        "                c.setFont(\"Helvetica\", 10)\n",
        "                y_pos = h - margen_y  # Reiniciar posición vertical\n",
        "\n",
        "            c.drawString(margen_x, y_pos, linea)\n",
        "            y_pos -= espacio_entre_lineas  # Mover la posición hacia abajo\n",
        "\n",
        "    c.save()\n",
        "    files.download(filename)"
      ],
      "metadata": {
        "id": "30mx_uB9oiFd"
      },
      "execution_count": null,
      "outputs": []
    },
    {
      "cell_type": "markdown",
      "source": [
        "# CREACIÓN DE WIDGETS"
      ],
      "metadata": {
        "id": "ZIS6ws4KuuQ8"
      }
    },
    {
      "cell_type": "code",
      "execution_count": null,
      "metadata": {
        "id": "2PADXbaUJFQp"
      },
      "outputs": [],
      "source": [
        "# Crear los widgets\n",
        "entrada_texto = widgets.Textarea(\n",
        "    value='',\n",
        "    placeholder='Ingresa el texto completo aquí...',\n",
        "    description='Texto de Entrada:',\n",
        "    layout=widgets.Layout(width='100%', height='200px')\n",
        ")"
      ]
    },
    {
      "cell_type": "code",
      "execution_count": null,
      "metadata": {
        "id": "x49HYEosJFTR"
      },
      "outputs": [],
      "source": [
        "porcentaje_widget = widgets.IntSlider(\n",
        "    value=20,\n",
        "    min=1,\n",
        "    max=100,\n",
        "    step=1,\n",
        "    description='Porcentaje de Oraciones:',\n",
        "    continuous_update=False\n",
        ")"
      ]
    },
    {
      "cell_type": "code",
      "execution_count": null,
      "metadata": {
        "id": "rTMpBjwUJFXG"
      },
      "outputs": [],
      "source": [
        "boton_resumen = widgets.Button(\n",
        "    description=\"Generar Resumen\",\n",
        "    button_style='success',\n",
        "    tooltip=\"Generar resumen basado en el porcentaje de oraciones\"\n",
        ")"
      ]
    },
    {
      "cell_type": "code",
      "execution_count": null,
      "metadata": {
        "id": "0gQc1DNoJJml"
      },
      "outputs": [],
      "source": [
        "salida_texto = widgets.Textarea(\n",
        "    value='',\n",
        "    placeholder='Aquí se mostrará el resumen generado...',\n",
        "    description='Resumen Generado:',\n",
        "    layout=widgets.Layout(width='100%', height='200px'),\n",
        "    disabled=True\n",
        ")"
      ]
    },
    {
      "cell_type": "code",
      "execution_count": null,
      "metadata": {
        "id": "9Y3T5ieTJLfI"
      },
      "outputs": [],
      "source": [
        "# Botones para guardar\n",
        "boton_guardar_docx = widgets.Button(\n",
        "    description=\"Guardar como .docx\",\n",
        "    button_style='info',\n",
        "    tooltip=\"Guardar el resumen en un archivo Word\"\n",
        ")\n"
      ]
    },
    {
      "cell_type": "code",
      "execution_count": null,
      "metadata": {
        "id": "pDP3fhLmJNMG"
      },
      "outputs": [],
      "source": [
        "boton_guardar_pdf = widgets.Button(\n",
        "   description=\"Guardar como PDF\",\n",
        "   button_style='info',\n",
        "   tooltip=\"Guardar el resumen en un archivo PDF\"\n",
        ")\n"
      ]
    },
    {
      "cell_type": "code",
      "execution_count": null,
      "metadata": {
        "id": "ZFt0pX4FJP10"
      },
      "outputs": [],
      "source": [
        "# Conectar los botones a sus respectivas funciones\n",
        "boton_resumen.on_click(procesar_texto)\n",
        "boton_guardar_docx.on_click(guardar_docx)\n",
        "boton_guardar_pdf.on_click(guardar_pdf)"
      ]
    },
    {
      "cell_type": "markdown",
      "source": [
        "# INTERFAZ GRÁFICA"
      ],
      "metadata": {
        "id": "V1pKKQJau5wV"
      }
    },
    {
      "cell_type": "code",
      "execution_count": null,
      "metadata": {
        "colab": {
          "base_uri": "https://localhost:8080/",
          "height": 571,
          "referenced_widgets": [
            "f8b015fcf6644b76846895e5b89ac543",
            "24c23c96993f4f7d8bf428e7cf8d6ffb",
            "433be48ed9374c2e986820f6e0e480ae",
            "029f1984d83047a69290e6467598ec27",
            "615842f78b63405194e3285016288b70",
            "1f2015f05b0c47d89814469d0272decd",
            "556cad8268f34851b346d3a95f77a8f6",
            "669ec7192e144b19af15825272990c0b",
            "4d19b8eac95044c48f69add5a6f908f6",
            "02cbc6c89f1d4fbcacc3dcc0788d8e2f",
            "8ca118c60fe6447583d5eebce459db54",
            "112a26fc76664e97b0519a6f38fc21b2",
            "f706fe8a3ec747dea12b51c025ec9e5f",
            "accb6517c0bc4e48973c285777079188",
            "a4ea2252810642f682b9d926f0f65190",
            "469ee65235a24fb79b4355a78d3ef10f",
            "af6f04902907458d93c60c7147fd584b",
            "511e2a685c3a4fcab3f80b830de4fb09"
          ]
        },
        "id": "rglZFrkVJP_q",
        "outputId": "638dc8c8-851a-4050-a29d-56f15e61a3d1"
      },
      "outputs": [
        {
          "output_type": "display_data",
          "data": {
            "text/plain": [
              "Textarea(value='', description='Texto de Entrada:', layout=Layout(height='200px', width='100%'), placeholder='…"
            ],
            "application/vnd.jupyter.widget-view+json": {
              "version_major": 2,
              "version_minor": 0,
              "model_id": "f8b015fcf6644b76846895e5b89ac543"
            }
          },
          "metadata": {}
        },
        {
          "output_type": "display_data",
          "data": {
            "text/plain": [
              "IntSlider(value=20, continuous_update=False, description='Porcentaje de Oraciones:', min=1)"
            ],
            "application/vnd.jupyter.widget-view+json": {
              "version_major": 2,
              "version_minor": 0,
              "model_id": "029f1984d83047a69290e6467598ec27"
            }
          },
          "metadata": {}
        },
        {
          "output_type": "display_data",
          "data": {
            "text/plain": [
              "Button(button_style='success', description='Generar Resumen', style=ButtonStyle(), tooltip='Generar resumen ba…"
            ],
            "application/vnd.jupyter.widget-view+json": {
              "version_major": 2,
              "version_minor": 0,
              "model_id": "556cad8268f34851b346d3a95f77a8f6"
            }
          },
          "metadata": {}
        },
        {
          "output_type": "display_data",
          "data": {
            "text/plain": [
              "Textarea(value='', description='Resumen Generado:', disabled=True, layout=Layout(height='200px', width='100%')…"
            ],
            "application/vnd.jupyter.widget-view+json": {
              "version_major": 2,
              "version_minor": 0,
              "model_id": "02cbc6c89f1d4fbcacc3dcc0788d8e2f"
            }
          },
          "metadata": {}
        },
        {
          "output_type": "display_data",
          "data": {
            "text/plain": [
              "Button(button_style='info', description='Guardar como .docx', style=ButtonStyle(), tooltip='Guardar el resumen…"
            ],
            "application/vnd.jupyter.widget-view+json": {
              "version_major": 2,
              "version_minor": 0,
              "model_id": "f706fe8a3ec747dea12b51c025ec9e5f"
            }
          },
          "metadata": {}
        },
        {
          "output_type": "display_data",
          "data": {
            "text/plain": [
              "Button(button_style='info', description='Guardar como PDF', style=ButtonStyle(), tooltip='Guardar el resumen e…"
            ],
            "application/vnd.jupyter.widget-view+json": {
              "version_major": 2,
              "version_minor": 0,
              "model_id": "469ee65235a24fb79b4355a78d3ef10f"
            }
          },
          "metadata": {}
        },
        {
          "output_type": "display_data",
          "data": {
            "text/plain": [
              "<IPython.core.display.Javascript object>"
            ],
            "application/javascript": [
              "\n",
              "    async function download(id, filename, size) {\n",
              "      if (!google.colab.kernel.accessAllowed) {\n",
              "        return;\n",
              "      }\n",
              "      const div = document.createElement('div');\n",
              "      const label = document.createElement('label');\n",
              "      label.textContent = `Downloading \"${filename}\": `;\n",
              "      div.appendChild(label);\n",
              "      const progress = document.createElement('progress');\n",
              "      progress.max = size;\n",
              "      div.appendChild(progress);\n",
              "      document.body.appendChild(div);\n",
              "\n",
              "      const buffers = [];\n",
              "      let downloaded = 0;\n",
              "\n",
              "      const channel = await google.colab.kernel.comms.open(id);\n",
              "      // Send a message to notify the kernel that we're ready.\n",
              "      channel.send({})\n",
              "\n",
              "      for await (const message of channel.messages) {\n",
              "        // Send a message to notify the kernel that we're ready.\n",
              "        channel.send({})\n",
              "        if (message.buffers) {\n",
              "          for (const buffer of message.buffers) {\n",
              "            buffers.push(buffer);\n",
              "            downloaded += buffer.byteLength;\n",
              "            progress.value = downloaded;\n",
              "          }\n",
              "        }\n",
              "      }\n",
              "      const blob = new Blob(buffers, {type: 'application/binary'});\n",
              "      const a = document.createElement('a');\n",
              "      a.href = window.URL.createObjectURL(blob);\n",
              "      a.download = filename;\n",
              "      div.appendChild(a);\n",
              "      a.click();\n",
              "      div.remove();\n",
              "    }\n",
              "  "
            ]
          },
          "metadata": {}
        },
        {
          "output_type": "display_data",
          "data": {
            "text/plain": [
              "<IPython.core.display.Javascript object>"
            ],
            "application/javascript": [
              "download(\"download_f4a20f73-0f25-444e-a36a-294db1ce9472\", \"resumen.pdf\", 6914)"
            ]
          },
          "metadata": {}
        },
        {
          "output_type": "display_data",
          "data": {
            "text/plain": [
              "<IPython.core.display.Javascript object>"
            ],
            "application/javascript": [
              "\n",
              "    async function download(id, filename, size) {\n",
              "      if (!google.colab.kernel.accessAllowed) {\n",
              "        return;\n",
              "      }\n",
              "      const div = document.createElement('div');\n",
              "      const label = document.createElement('label');\n",
              "      label.textContent = `Downloading \"${filename}\": `;\n",
              "      div.appendChild(label);\n",
              "      const progress = document.createElement('progress');\n",
              "      progress.max = size;\n",
              "      div.appendChild(progress);\n",
              "      document.body.appendChild(div);\n",
              "\n",
              "      const buffers = [];\n",
              "      let downloaded = 0;\n",
              "\n",
              "      const channel = await google.colab.kernel.comms.open(id);\n",
              "      // Send a message to notify the kernel that we're ready.\n",
              "      channel.send({})\n",
              "\n",
              "      for await (const message of channel.messages) {\n",
              "        // Send a message to notify the kernel that we're ready.\n",
              "        channel.send({})\n",
              "        if (message.buffers) {\n",
              "          for (const buffer of message.buffers) {\n",
              "            buffers.push(buffer);\n",
              "            downloaded += buffer.byteLength;\n",
              "            progress.value = downloaded;\n",
              "          }\n",
              "        }\n",
              "      }\n",
              "      const blob = new Blob(buffers, {type: 'application/binary'});\n",
              "      const a = document.createElement('a');\n",
              "      a.href = window.URL.createObjectURL(blob);\n",
              "      a.download = filename;\n",
              "      div.appendChild(a);\n",
              "      a.click();\n",
              "      div.remove();\n",
              "    }\n",
              "  "
            ]
          },
          "metadata": {}
        },
        {
          "output_type": "display_data",
          "data": {
            "text/plain": [
              "<IPython.core.display.Javascript object>"
            ],
            "application/javascript": [
              "download(\"download_f751dae0-4e09-4469-8022-2471f7c8ba32\", \"resumen.docx\", 39946)"
            ]
          },
          "metadata": {}
        }
      ],
      "source": [
        "# Mostrar los widgets\n",
        "display(entrada_texto)\n",
        "display(porcentaje_widget)\n",
        "display(boton_resumen)\n",
        "display(salida_texto)\n",
        "display(boton_guardar_docx)\n",
        "display(boton_guardar_pdf)"
      ]
    }
  ],
  "metadata": {
    "colab": {
      "provenance": [],
      "toc_visible": true,
      "include_colab_link": true
    },
    "kernelspec": {
      "display_name": "Python 3",
      "name": "python3"
    },
    "language_info": {
      "codemirror_mode": {
        "name": "ipython",
        "version": 3
      },
      "file_extension": ".py",
      "mimetype": "text/x-python",
      "name": "python",
      "nbconvert_exporter": "python",
      "pygments_lexer": "ipython3",
      "version": "3.13.0"
    },
    "widgets": {
      "application/vnd.jupyter.widget-state+json": {
        "f8b015fcf6644b76846895e5b89ac543": {
          "model_module": "@jupyter-widgets/controls",
          "model_name": "TextareaModel",
          "model_module_version": "1.5.0",
          "state": {
            "_dom_classes": [],
            "_model_module": "@jupyter-widgets/controls",
            "_model_module_version": "1.5.0",
            "_model_name": "TextareaModel",
            "_view_count": null,
            "_view_module": "@jupyter-widgets/controls",
            "_view_module_version": "1.5.0",
            "_view_name": "TextareaView",
            "continuous_update": true,
            "description": "Texto de Entrada:",
            "description_tooltip": null,
            "disabled": false,
            "layout": "IPY_MODEL_24c23c96993f4f7d8bf428e7cf8d6ffb",
            "placeholder": "Ingresa el texto completo aquí...",
            "rows": null,
            "style": "IPY_MODEL_433be48ed9374c2e986820f6e0e480ae",
            "value": "El matemático inglés Alan Turing fue uno de los pioneros más importantes en el delineamiento de lo que más tarde se convertiría en la teoría de la computación. El misterio fue un común denominador a lo largo de su vida, entre otras cosas por su participación en el servicio británico de inteligencia durante la Segunda Guerra Mundial y por sus mal vistas inclinaciones sexuales. Su vida, llena de soledad y tropiezos, fue duramente juzgada al exponer públicamente su homosexualidad en los años cincuenta, pero ni la depresión ni el cruel repudio de la sociedad -a la que su trabajo contribuyó a liberar del yugo alemán- parecen justificar su trágico suicidio, cometido cuando se encontraba en el clímax de su productividad científica.\n\nSus calificaciones en matemáticas y ciencias eran aceptables, pero los maestros se quejaban de lo sucio de su trabajo. Su madre se encontraba sumamente mortificada porque pensaba que Alan vería truncadas sus aspiraciones científicas por su mal desempeño en la escuela. Con esas calificaciones parecía improbable que Alan pudiera siquiera aspirar a ingresar a la universidad. El director de la escuela llegó a decir si Alan Turing deseaba ser científico estaba desperdiciando su tiempo en una escuela pública. Esas palabras fueron casi ciertas, pues Turing hubo de sufrir mucho durante su estancia en esa institución, en la que los anticuados métodos de enseñanza británicos afortunadamente no lograron apaciguar su curiosidad por la ciencia. Si su madre y sus profesores hubieran sabido en ese entonces que este joven indisciplinado estaba destinado a convertirse en un matemático connotado y que un día su nombre sería pronunciado con respeto por los teóricos de la computación más importantes del mundo, tal vez le habrían tenido un poco más de paciencia.\n\nAlan Turing fue el segundo y último hijo de Julius Turing y Ethel Sara Stone. El inusual apellido Turing lo colocaba en el árbol genealógico de una familia que, aunque no era rica, pertenecía a la clase media alta inglesa. Su padre ingresó al servicio civil de la India y durante su estancia en ese país conoció a la que más tarde sería su esposa. Ethel era la hija del ingeniero en jefe de los ferrocarriles de Madras (en la India) y provenía de una familia anglo-irlandesa de un estatus socioeconómico similar al de Julius.\n\nAunque fue concebido en la India, probablemente en el pueblo de Chatrapur, Alan Turing nació en Warrington Lodge, en Londres, Inglaterra, el 23 de junio de 1912. Alan Turing y su hermano mayor John pasaron una infancia alejados de sus padres, siempre bajo el cuidado de terceras personas en diversos hogares ingleses, hasta que su padre se retiró del servicio en 1926.\n\nSe dice que la inteligencia de Alan Turing se manifestó a temprana edad, puues a los 3 años parecía mostrar una inusual capacidad para recordar nuevas palabras. Al parecer, su gusto por la educación autodidacta también se manifestó en su niñez porque su madre cuenta que Alan estaba aprendiendo muy lentamente a leer, hasta que éste encontró un libro fácil de seguir y se enseñó a sí mismo. Asimismo, su inquietud por entender los fenómenos de la naturaleza lo llevó a montar un laboratorio rudimentario de química en el sótano de su casa, cuando contaba con solo ocho años de edad.\n\nDe niño, Alan quería ser médico, por lo que su familia veía con buenos ojos su temprano interés en la química. Además, buscando que el pequeño recibiera una buena educación básica, sus padres lo enviaron en el verano de 1918 a una escuela privada para niños llamada Saint Michael’s para que aprendiera latín. Después de un tiempo su mamá lo sacó de la escuela, porque advirtió que Alan no estaba aprendiendo mucho, ya que llegó a los nueve años de edad sin saber dividir correctamente y sin\n\nhaber alcanzado un nivel aceptable de latín. En 1922 Alan ingresó a la escuela preparatoria Hazlehurst, que era donde estudiaba su hermano.\n\nFue en Hazlehurst donde Alan se interesó por primera vez en el ajedrez, y fue ahí también donde su interés por la ciencia -sobre todo la química y las matemáticas- fue creciendo cada vez más, aunque gran parte de sus estudios tuvo que efectuarlos de manera autodidacta, debido al arcaico sistema de enseñanza que reinaba en la Inglaterra de esos días.\n\nA pesar de su mal desempeño en la escuela, Alan sorprendió agradablemente a su familia cuando aprobó el examen común de admisión a escuelas públicas en 1925. Sin embargo, como su madre deseaba enviar a Alan a una escuela donde pudiera entender su extraña manera de ser y su extraordinario sentido de independencia, hubo que esperar hasta 1926 para ingresar a la escuela Sherborne, cuando contaba con 13 años de edad.\n\nA los 14 años ya era capaz de comprender cuestiones relativamente avanzadas de cálculo, pese a que no había estudiado el tema en la escuela. Asimismo, se dice que tenía una increíble capacidad para realizar cálculos mentales. Fue en esta época también en la que empezó a desarrollar una afición hacia el atletismo que le acompañaría toda la vida.\n\nPese a su mal desempeño en materias no relacionadas con las ciencias. Turing logró sobrevivir en Sherborne y continuó estudiando matemáticas por su cuenta. En 1928 se interesó en la teoría general de la relatividad, de Albert Einstein, y aunque se dice que sus notas privadas sobre la materia bien podrían atribuirse a un estudiante de posgrado, casi se le impidió tomar los exámenes para obtener el certificado de educación media.\n\nDurante su estancia en Sherborne, Turing desarrolló el hábito de no prestar atención a sus clases sino hasta el final del semestre, cuando se esmeraba y dejaba asombrados a todos al obtener calificaciones suficientemente buenas para aprobar sus cursos. Un profesor de latín, llegó a decirle al intrépido Alan que donaría un billón de libras a cualquier institución de beneficencia que Turing eligiera si este lograba aprobar su curso. A pesar del mal presagio, Alan se las ingenió para aprobar latín, aunque su profesor no honró la apuesta.\n\nFue en estos días cuando Turing conoció al joven Christopher Morcom, un estudiante muy brillante que le sirvió de compañero intelectual durante una época de intensa curiosidad científica para Alan. Morcón provenía de una familia rica con fuertes bases científicas y artísticas. Tras conocerlo, Turing se sintió inmediatamente atraído por el enorme talento y las sagaz inteligencia de Morcom y pronto se volvieron muy buenos amigos. Incluso a veces les tocó compartir clases, a pesar de que Christopher era un año mayor que Alan. Juntos desarrollaron experimentos de química, resolvieron problemas de matemáticas, localizaron estrellas y cometas en el firmamento y conversaron durante interminables horas acerca de las inagotables ideas y preguntas científicas que intrigaban a los jóvenes prospectos.\n\nAunque igualmente brillante que Alan, Christopher se distinguía de Turing por ser un estudiante modelo que sabía obedecer las rígidas reglas que regían en las escuelas inglesas de educación media de la época. Además, poseía aptitudes que estaban mucho más allá de la capacidad de Turing. Tal vez por ello Morcom se volvió el primer héroe de la adolescencia de Turing y según Hodges, su primer gran amor platónico.\n\nEn 1929 Morcom presentó los exámenes para ingresar al prestigioso Trinity College de la Universidad de Cambridge, y obtuvo una beca -al igual que lo había hecho su hermano Rupert unos años antes que él-. Turing tuvo la osadía de imitar a Morcom, a pesar de contar con solo 17 años de edad y, como era de esperarse, fracasó en su intento.\n\nLo que Turing lamentó más de este tropiezo no fue tanto el no haber obtenido la beca, sino el pensar que se tendría que separar de Christopher durante al menos un año. Lo que Alan no sabía era que el destino estaba a punto de jugarle una mala pasada que los separaría permanentemente de la única persona que realmente comprendía su peculiar interés por la ciencia.\n\nChristopher Morcom murió el 13 de febrero de 1930, después de 6 días de intenso dolor. Aunque Turing atribuyó su muerte a un envenenamiento envenenamiento con vanadio, la realidad es que Morcom había contraído tuberculosis bovina en la infancia por beber leche de vaca infectada y eso lo había hecho ser siempre una persona muy enfermiza. Su mal se agudizó tras una operación que se efectuó en 1927 y todos los esfuerzos de los médicos por salvarlo fueron inútiles.\n\nSu muerte dejó huella profunda en Turín, quien juró completar la prometedora carrera científica que Morcom había apenas comenzado. A partir de ese momento Alan inició una correspondencia frecuente con la mamá de Christopher y sus intereses se tornaron hacia los misterios que rodean el encapsulamiento de la mente en la materia. Con el firme propósito de develar los secretos de la muerte con ayuda de la ciencia, Turing comenzó a estudiar física cuántica.\n\nEn su segundo intento por obtener una beca en Cambridge, Turing finalmente logro ser aceptado en el King’s College, que fue su segunda opción en el examen.\n\nEsto decepcionó un poco Alan, que lamentó no haber podido seguir fielmente los pasos de Christopher, pero fue motivo de celebración para la familia Turín, que pensó que después de todo su hijo obtendría la buena educación que todos buscaban.\n\nEn 1932 Alan comenzó a estudiar el entonces reciente trabajo de von Newman en mecánica cuántica, lo cual le permitió canalizar sus dudas espirituales por la vía de la rigurosidad científica. Al mismo tiempo, el ambiente más liberal del King’s College le hizo sentirse mucho más relajado que en Sherborne, y la homosexualidad se volvió un rasgo distintivo de su personalidad. En esa época hizo amistad con un joven estudiante de matemáticas llamado James Atkins, quien se volvería más tarde su amante.\n\nPese a que los círculos más frecuentados por los homosexuales en King’s College eran los literarios, Turing prefería los deportes y era frecuente que practicara remo, carreras a campo traviesa y que paseara en un pequeño velero. También aprendió a tocar el violín, pero nunca se volvió diestro con el instrumento. Tal vez debido a su constante oposición a los sistemas rígidos como los que había experimentado en su adolescencia. Turing se unió al movimiento antibélico que pululaba en el Cambridge de los años treinta. Sus ideas de esa época estaban a favor de la izquierda, aunque nunca llegó a participar directamente en ningún movimiento político importante.\n\nLas cosas empezaron a ir bien para Turing, pues se graduó de la licenciatura en matemáticas con honores en 1934. Su redescubrimiento del teorema del límite central le hizo acreedor a una beca Harold Fry del King’s College, que le permitía ser investigador de tiempo completo durante tres años, con posibilidad de renovarla por otros tres.\n\nEste mismo trabajo lo presentó en el concurso de ensayos en matemáticas que celebró Cambridge en 1936. El llamado premio Smith le fue otorgado al joven Turing, quien para ese entonces había penetrado los dominios de las matemáticas superiores al resolver de manera sorprendentemente sencilla, el problema de la decibilidad planteado por el legendario matemático alemán David Hilbert.\n\nEn términos llanos, la pregunta de Hilbert giraba en torno a si existe un método definido que pueda ser aplicado a cualquier aseveración, de manera que garantice el que se genere una decisión correcta sobre su veracidad. Aunque Hilbert intuitivamente creía que la respuesta a este problema era “sí”, Turing demostró sorpresivamente que realmente era “no”. Para contribuir su demostración usó un modelo teórico sumamente sencillo, que consistía en una máquina con una cinta de longitud infinita dividida en cuadros en cada uno de los cuales podría colocarse un solo símbolo. Las funciones de la máquina estaban limitadas a leer, escribir o borrar símbolos en la cinta, moviéndose para ello a razón de un cuadro a la vez (hacia la derecha o a la izquierda). A pesar de su sencillez, esta máquina realmente estaba modelando un algoritmo y constituía la primera herramienta teórica para explorar los límites de las aún inexistentes computadoras.\n\nLas implicaciones de la demostración de Turing resultaron ser los orígenes de lo que hoy se conoce como teoría de la computación y gracias a este trabajo sabemos en la actualidad que sin importar qué tan rápidas y poderosas pueden llegar a ser las computadoras que el hombre construya, aún así seguirán existiendo problemas que nunca podremos resolver."
          }
        },
        "24c23c96993f4f7d8bf428e7cf8d6ffb": {
          "model_module": "@jupyter-widgets/base",
          "model_name": "LayoutModel",
          "model_module_version": "1.2.0",
          "state": {
            "_model_module": "@jupyter-widgets/base",
            "_model_module_version": "1.2.0",
            "_model_name": "LayoutModel",
            "_view_count": null,
            "_view_module": "@jupyter-widgets/base",
            "_view_module_version": "1.2.0",
            "_view_name": "LayoutView",
            "align_content": null,
            "align_items": null,
            "align_self": null,
            "border": null,
            "bottom": null,
            "display": null,
            "flex": null,
            "flex_flow": null,
            "grid_area": null,
            "grid_auto_columns": null,
            "grid_auto_flow": null,
            "grid_auto_rows": null,
            "grid_column": null,
            "grid_gap": null,
            "grid_row": null,
            "grid_template_areas": null,
            "grid_template_columns": null,
            "grid_template_rows": null,
            "height": "200px",
            "justify_content": null,
            "justify_items": null,
            "left": null,
            "margin": null,
            "max_height": null,
            "max_width": null,
            "min_height": null,
            "min_width": null,
            "object_fit": null,
            "object_position": null,
            "order": null,
            "overflow": null,
            "overflow_x": null,
            "overflow_y": null,
            "padding": null,
            "right": null,
            "top": null,
            "visibility": null,
            "width": "100%"
          }
        },
        "433be48ed9374c2e986820f6e0e480ae": {
          "model_module": "@jupyter-widgets/controls",
          "model_name": "DescriptionStyleModel",
          "model_module_version": "1.5.0",
          "state": {
            "_model_module": "@jupyter-widgets/controls",
            "_model_module_version": "1.5.0",
            "_model_name": "DescriptionStyleModel",
            "_view_count": null,
            "_view_module": "@jupyter-widgets/base",
            "_view_module_version": "1.2.0",
            "_view_name": "StyleView",
            "description_width": ""
          }
        },
        "029f1984d83047a69290e6467598ec27": {
          "model_module": "@jupyter-widgets/controls",
          "model_name": "IntSliderModel",
          "model_module_version": "1.5.0",
          "state": {
            "_dom_classes": [],
            "_model_module": "@jupyter-widgets/controls",
            "_model_module_version": "1.5.0",
            "_model_name": "IntSliderModel",
            "_view_count": null,
            "_view_module": "@jupyter-widgets/controls",
            "_view_module_version": "1.5.0",
            "_view_name": "IntSliderView",
            "continuous_update": false,
            "description": "Porcentaje de Oraciones:",
            "description_tooltip": null,
            "disabled": false,
            "layout": "IPY_MODEL_615842f78b63405194e3285016288b70",
            "max": 100,
            "min": 1,
            "orientation": "horizontal",
            "readout": true,
            "readout_format": "d",
            "step": 1,
            "style": "IPY_MODEL_1f2015f05b0c47d89814469d0272decd",
            "value": 10
          }
        },
        "615842f78b63405194e3285016288b70": {
          "model_module": "@jupyter-widgets/base",
          "model_name": "LayoutModel",
          "model_module_version": "1.2.0",
          "state": {
            "_model_module": "@jupyter-widgets/base",
            "_model_module_version": "1.2.0",
            "_model_name": "LayoutModel",
            "_view_count": null,
            "_view_module": "@jupyter-widgets/base",
            "_view_module_version": "1.2.0",
            "_view_name": "LayoutView",
            "align_content": null,
            "align_items": null,
            "align_self": null,
            "border": null,
            "bottom": null,
            "display": null,
            "flex": null,
            "flex_flow": null,
            "grid_area": null,
            "grid_auto_columns": null,
            "grid_auto_flow": null,
            "grid_auto_rows": null,
            "grid_column": null,
            "grid_gap": null,
            "grid_row": null,
            "grid_template_areas": null,
            "grid_template_columns": null,
            "grid_template_rows": null,
            "height": null,
            "justify_content": null,
            "justify_items": null,
            "left": null,
            "margin": null,
            "max_height": null,
            "max_width": null,
            "min_height": null,
            "min_width": null,
            "object_fit": null,
            "object_position": null,
            "order": null,
            "overflow": null,
            "overflow_x": null,
            "overflow_y": null,
            "padding": null,
            "right": null,
            "top": null,
            "visibility": null,
            "width": null
          }
        },
        "1f2015f05b0c47d89814469d0272decd": {
          "model_module": "@jupyter-widgets/controls",
          "model_name": "SliderStyleModel",
          "model_module_version": "1.5.0",
          "state": {
            "_model_module": "@jupyter-widgets/controls",
            "_model_module_version": "1.5.0",
            "_model_name": "SliderStyleModel",
            "_view_count": null,
            "_view_module": "@jupyter-widgets/base",
            "_view_module_version": "1.2.0",
            "_view_name": "StyleView",
            "description_width": "",
            "handle_color": null
          }
        },
        "556cad8268f34851b346d3a95f77a8f6": {
          "model_module": "@jupyter-widgets/controls",
          "model_name": "ButtonModel",
          "model_module_version": "1.5.0",
          "state": {
            "_dom_classes": [],
            "_model_module": "@jupyter-widgets/controls",
            "_model_module_version": "1.5.0",
            "_model_name": "ButtonModel",
            "_view_count": null,
            "_view_module": "@jupyter-widgets/controls",
            "_view_module_version": "1.5.0",
            "_view_name": "ButtonView",
            "button_style": "success",
            "description": "Generar Resumen",
            "disabled": false,
            "icon": "",
            "layout": "IPY_MODEL_669ec7192e144b19af15825272990c0b",
            "style": "IPY_MODEL_4d19b8eac95044c48f69add5a6f908f6",
            "tooltip": "Generar resumen basado en el porcentaje de oraciones"
          }
        },
        "669ec7192e144b19af15825272990c0b": {
          "model_module": "@jupyter-widgets/base",
          "model_name": "LayoutModel",
          "model_module_version": "1.2.0",
          "state": {
            "_model_module": "@jupyter-widgets/base",
            "_model_module_version": "1.2.0",
            "_model_name": "LayoutModel",
            "_view_count": null,
            "_view_module": "@jupyter-widgets/base",
            "_view_module_version": "1.2.0",
            "_view_name": "LayoutView",
            "align_content": null,
            "align_items": null,
            "align_self": null,
            "border": null,
            "bottom": null,
            "display": null,
            "flex": null,
            "flex_flow": null,
            "grid_area": null,
            "grid_auto_columns": null,
            "grid_auto_flow": null,
            "grid_auto_rows": null,
            "grid_column": null,
            "grid_gap": null,
            "grid_row": null,
            "grid_template_areas": null,
            "grid_template_columns": null,
            "grid_template_rows": null,
            "height": null,
            "justify_content": null,
            "justify_items": null,
            "left": null,
            "margin": null,
            "max_height": null,
            "max_width": null,
            "min_height": null,
            "min_width": null,
            "object_fit": null,
            "object_position": null,
            "order": null,
            "overflow": null,
            "overflow_x": null,
            "overflow_y": null,
            "padding": null,
            "right": null,
            "top": null,
            "visibility": null,
            "width": null
          }
        },
        "4d19b8eac95044c48f69add5a6f908f6": {
          "model_module": "@jupyter-widgets/controls",
          "model_name": "ButtonStyleModel",
          "model_module_version": "1.5.0",
          "state": {
            "_model_module": "@jupyter-widgets/controls",
            "_model_module_version": "1.5.0",
            "_model_name": "ButtonStyleModel",
            "_view_count": null,
            "_view_module": "@jupyter-widgets/base",
            "_view_module_version": "1.2.0",
            "_view_name": "StyleView",
            "button_color": null,
            "font_weight": ""
          }
        },
        "02cbc6c89f1d4fbcacc3dcc0788d8e2f": {
          "model_module": "@jupyter-widgets/controls",
          "model_name": "TextareaModel",
          "model_module_version": "1.5.0",
          "state": {
            "_dom_classes": [],
            "_model_module": "@jupyter-widgets/controls",
            "_model_module_version": "1.5.0",
            "_model_name": "TextareaModel",
            "_view_count": null,
            "_view_module": "@jupyter-widgets/controls",
            "_view_module_version": "1.5.0",
            "_view_name": "TextareaView",
            "continuous_update": true,
            "description": "Resumen Generado:",
            "description_tooltip": null,
            "disabled": true,
            "layout": "IPY_MODEL_8ca118c60fe6447583d5eebce459db54",
            "placeholder": "Aquí se mostrará el resumen generado...",
            "rows": null,
            "style": "IPY_MODEL_112a26fc76664e97b0519a6f38fc21b2",
            "value": "Aunque igualmente brillante que Alan, Christopher se distinguía de Turing por ser un estudiante modelo que sabía obedecer las rígidas reglas que regían en las escuelas inglesas de educación media de la época. El director de la escuela llegó a decir si Alan Turing deseaba ser científico estaba desperdiciando su tiempo en una escuela pública. Sin embargo, como su madre deseaba enviar a Alan a una escuela donde pudiera entender su extraña manera de ser y su extraordinario sentido de independencia, hubo que esperar hasta 1926 para ingresar a la escuela Sherborne, cuando contaba con 13 años de edad. Fue en estos días cuando Turing conoció al joven Christopher Morcom, un estudiante muy brillante que le sirvió de compañero intelectual durante una época de intensa curiosidad científica para Alan. Fue en Hazlehurst donde Alan se interesó por primera vez en el ajedrez, y fue ahí también donde su interés por la ciencia -sobre todo la química y las matemáticas- fue creciendo cada vez más, aunque gran parte de sus estudios tuvo que efectuarlos de manera autodidacta, debido al arcaico sistema de enseñanza que reinaba en la Inglaterra de esos días. Las implicaciones de la demostración de Turing resultaron ser los orígenes de lo que hoy se conoce como teoría de la computación y gracias a este trabajo sabemos en la actualidad que sin importar qué tan rápidas y poderosas pueden llegar a ser las computadoras que el hombre construya, aún así seguirán existiendo problemas que nunca podremos resolver. Alan Turing fue el segundo y último hijo de Julius Turing y Ethel Sara Stone. Se dice que la inteligencia de Alan Turing se manifestó a temprana edad, puues a los 3 años parecía mostrar una inusual capacidad para recordar nuevas palabras. Un profesor de latín, llegó a decirle al intrépido Alan que donaría un billón de libras a cualquier institución de beneficencia que Turing eligiera si este lograba aprobar su curso. Aunque Turing atribuyó su muerte a un envenenamiento envenenamiento con vanadio, la realidad es que Morcom había contraído tuberculosis bovina en la infancia por beber leche de vaca infectada y eso lo había hecho ser siempre una persona muy enfermiza. Alan Turing y su hermano mayor John pasaron una infancia alejados de sus padres, siempre bajo el cuidado de terceras personas en diversos hogares ingleses, hasta que su padre se retiró del servicio en 1926. Después de un tiempo su mamá lo sacó de la escuela, porque advirtió que Alan no estaba aprendiendo mucho, ya que llegó a los nueve años de edad sin saber dividir correctamente y sin\n\nhaber alcanzado un nivel aceptable de latín. En su segundo intento por obtener una beca en Cambridge, Turing finalmente logro ser aceptado en el King’s College, que fue su segunda opción en el examen. Aunque fue concebido en la India, probablemente en el pueblo de Chatrapur, Alan Turing nació en Warrington Lodge, en Londres, Inglaterra, el 23 de junio de 1912. El llamado premio Smith le fue otorgado al joven Turing, quien para ese entonces había penetrado los dominios de las matemáticas superiores al resolver de manera sorprendentemente sencilla, el problema de la decibilidad planteado por el legendario matemático alemán David Hilbert. El matemático inglés Alan Turing fue uno de los pioneros más importantes en el delineamiento de lo que más tarde se convertiría en la teoría de la computación. Turing tuvo la osadía de imitar a Morcom, a pesar de contar con solo 17 años de edad y, como era de esperarse, fracasó en su intento. Esto decepcionó un poco Alan, que lamentó no haber podido seguir fielmente los pasos de Christopher, pero fue motivo de celebración para la familia Turín, que pensó que después de todo su hijo obtendría la buena educación que todos buscaban. Pese a que los círculos más frecuentados por los homosexuales en King’s College eran los literarios, Turing prefería los deportes y era frecuente que practicara remo, carreras a campo traviesa y que paseara en un pequeño velero. Su redescubrimiento del teorema del límite central le hizo acreedor a una beca Harold Fry del King’s College, que le permitía ser investigador de tiempo completo durante tres años, con posibilidad de renovarla por otros tres. A pesar de su mal desempeño en la escuela, Alan sorprendió agradablemente a su familia cuando aprobó el examen común de admisión a escuelas públicas en 1925. Tal vez por ello Morcom se volvió el primer héroe de la adolescencia de Turing y según Hodges, su primer gran amor platónico. Durante su estancia en Sherborne, Turing desarrolló el hábito de no prestar atención a sus clases sino hasta el final del semestre, cuando se esmeraba y dejaba asombrados a todos al obtener calificaciones suficientemente buenas para aprobar sus cursos. Su madre se encontraba sumamente mortificada porque pensaba que Alan vería truncadas sus aspiraciones científicas por su mal desempeño en la escuela. El inusual apellido Turing lo colocaba en el árbol genealógico de una familia que, aunque no era rica, pertenecía a la clase media alta inglesa. Aunque Hilbert intuitivamente creía que la respuesta a este problema era “sí”, Turing demostró sorpresivamente que realmente era “no”. Al parecer, su gusto por la educación autodidacta también se manifestó en su niñez porque su madre cuenta que Alan estaba aprendiendo muy lentamente a leer, hasta que éste encontró un libro fácil de seguir y se enseñó a sí mismo. A pesar del mal presagio, Alan se las ingenió para aprobar latín, aunque su profesor no honró la apuesta. Esas palabras fueron casi ciertas, pues Turing hubo de sufrir mucho durante su estancia en esa institución, en la que los anticuados métodos de enseñanza británicos afortunadamente no lograron apaciguar su curiosidad por la ciencia. De niño, Alan quería ser médico, por lo que su familia veía con buenos ojos su temprano interés en la química. En 1928 se interesó en la teoría general de la relatividad, de Albert Einstein, y aunque se dice que sus notas privadas sobre la materia bien podrían atribuirse a un estudiante de posgrado, casi se le impidió tomar los exámenes para obtener el certificado de educación media. Tras conocerlo, Turing se sintió inmediatamente atraído por el enorme talento y las sagaz inteligencia de Morcom y pronto se volvieron muy buenos amigos. En 1929 Morcom presentó los exámenes para ingresar al prestigioso Trinity College de la Universidad de Cambridge, y obtuvo una beca -al igual que lo había hecho su hermano Rupert unos años antes que él-. Lo que Turing lamentó más de este tropiezo no fue tanto el no haber obtenido la beca, sino el pensar que se tendría que separar de Christopher durante al menos un año. En 1932 Alan comenzó a estudiar el entonces reciente trabajo de von Newman en mecánica cuántica, lo cual le permitió canalizar sus dudas espirituales por la vía de la rigurosidad científica. Su vida, llena de soledad y tropiezos, fue duramente juzgada al exponer públicamente su homosexualidad en los años cincuenta, pero ni la depresión ni el cruel repudio de la sociedad -a la que su trabajo contribuyó a liberar del yugo alemán- parecen justificar su trágico suicidio, cometido cuando se encontraba en el clímax de su productividad científica."
          }
        },
        "8ca118c60fe6447583d5eebce459db54": {
          "model_module": "@jupyter-widgets/base",
          "model_name": "LayoutModel",
          "model_module_version": "1.2.0",
          "state": {
            "_model_module": "@jupyter-widgets/base",
            "_model_module_version": "1.2.0",
            "_model_name": "LayoutModel",
            "_view_count": null,
            "_view_module": "@jupyter-widgets/base",
            "_view_module_version": "1.2.0",
            "_view_name": "LayoutView",
            "align_content": null,
            "align_items": null,
            "align_self": null,
            "border": null,
            "bottom": null,
            "display": null,
            "flex": null,
            "flex_flow": null,
            "grid_area": null,
            "grid_auto_columns": null,
            "grid_auto_flow": null,
            "grid_auto_rows": null,
            "grid_column": null,
            "grid_gap": null,
            "grid_row": null,
            "grid_template_areas": null,
            "grid_template_columns": null,
            "grid_template_rows": null,
            "height": "200px",
            "justify_content": null,
            "justify_items": null,
            "left": null,
            "margin": null,
            "max_height": null,
            "max_width": null,
            "min_height": null,
            "min_width": null,
            "object_fit": null,
            "object_position": null,
            "order": null,
            "overflow": null,
            "overflow_x": null,
            "overflow_y": null,
            "padding": null,
            "right": null,
            "top": null,
            "visibility": null,
            "width": "100%"
          }
        },
        "112a26fc76664e97b0519a6f38fc21b2": {
          "model_module": "@jupyter-widgets/controls",
          "model_name": "DescriptionStyleModel",
          "model_module_version": "1.5.0",
          "state": {
            "_model_module": "@jupyter-widgets/controls",
            "_model_module_version": "1.5.0",
            "_model_name": "DescriptionStyleModel",
            "_view_count": null,
            "_view_module": "@jupyter-widgets/base",
            "_view_module_version": "1.2.0",
            "_view_name": "StyleView",
            "description_width": ""
          }
        },
        "f706fe8a3ec747dea12b51c025ec9e5f": {
          "model_module": "@jupyter-widgets/controls",
          "model_name": "ButtonModel",
          "model_module_version": "1.5.0",
          "state": {
            "_dom_classes": [],
            "_model_module": "@jupyter-widgets/controls",
            "_model_module_version": "1.5.0",
            "_model_name": "ButtonModel",
            "_view_count": null,
            "_view_module": "@jupyter-widgets/controls",
            "_view_module_version": "1.5.0",
            "_view_name": "ButtonView",
            "button_style": "info",
            "description": "Guardar como .docx",
            "disabled": false,
            "icon": "",
            "layout": "IPY_MODEL_accb6517c0bc4e48973c285777079188",
            "style": "IPY_MODEL_a4ea2252810642f682b9d926f0f65190",
            "tooltip": "Guardar el resumen en un archivo Word"
          }
        },
        "accb6517c0bc4e48973c285777079188": {
          "model_module": "@jupyter-widgets/base",
          "model_name": "LayoutModel",
          "model_module_version": "1.2.0",
          "state": {
            "_model_module": "@jupyter-widgets/base",
            "_model_module_version": "1.2.0",
            "_model_name": "LayoutModel",
            "_view_count": null,
            "_view_module": "@jupyter-widgets/base",
            "_view_module_version": "1.2.0",
            "_view_name": "LayoutView",
            "align_content": null,
            "align_items": null,
            "align_self": null,
            "border": null,
            "bottom": null,
            "display": null,
            "flex": null,
            "flex_flow": null,
            "grid_area": null,
            "grid_auto_columns": null,
            "grid_auto_flow": null,
            "grid_auto_rows": null,
            "grid_column": null,
            "grid_gap": null,
            "grid_row": null,
            "grid_template_areas": null,
            "grid_template_columns": null,
            "grid_template_rows": null,
            "height": null,
            "justify_content": null,
            "justify_items": null,
            "left": null,
            "margin": null,
            "max_height": null,
            "max_width": null,
            "min_height": null,
            "min_width": null,
            "object_fit": null,
            "object_position": null,
            "order": null,
            "overflow": null,
            "overflow_x": null,
            "overflow_y": null,
            "padding": null,
            "right": null,
            "top": null,
            "visibility": null,
            "width": null
          }
        },
        "a4ea2252810642f682b9d926f0f65190": {
          "model_module": "@jupyter-widgets/controls",
          "model_name": "ButtonStyleModel",
          "model_module_version": "1.5.0",
          "state": {
            "_model_module": "@jupyter-widgets/controls",
            "_model_module_version": "1.5.0",
            "_model_name": "ButtonStyleModel",
            "_view_count": null,
            "_view_module": "@jupyter-widgets/base",
            "_view_module_version": "1.2.0",
            "_view_name": "StyleView",
            "button_color": null,
            "font_weight": ""
          }
        },
        "469ee65235a24fb79b4355a78d3ef10f": {
          "model_module": "@jupyter-widgets/controls",
          "model_name": "ButtonModel",
          "model_module_version": "1.5.0",
          "state": {
            "_dom_classes": [],
            "_model_module": "@jupyter-widgets/controls",
            "_model_module_version": "1.5.0",
            "_model_name": "ButtonModel",
            "_view_count": null,
            "_view_module": "@jupyter-widgets/controls",
            "_view_module_version": "1.5.0",
            "_view_name": "ButtonView",
            "button_style": "info",
            "description": "Guardar como PDF",
            "disabled": false,
            "icon": "",
            "layout": "IPY_MODEL_af6f04902907458d93c60c7147fd584b",
            "style": "IPY_MODEL_511e2a685c3a4fcab3f80b830de4fb09",
            "tooltip": "Guardar el resumen en un archivo PDF"
          }
        },
        "af6f04902907458d93c60c7147fd584b": {
          "model_module": "@jupyter-widgets/base",
          "model_name": "LayoutModel",
          "model_module_version": "1.2.0",
          "state": {
            "_model_module": "@jupyter-widgets/base",
            "_model_module_version": "1.2.0",
            "_model_name": "LayoutModel",
            "_view_count": null,
            "_view_module": "@jupyter-widgets/base",
            "_view_module_version": "1.2.0",
            "_view_name": "LayoutView",
            "align_content": null,
            "align_items": null,
            "align_self": null,
            "border": null,
            "bottom": null,
            "display": null,
            "flex": null,
            "flex_flow": null,
            "grid_area": null,
            "grid_auto_columns": null,
            "grid_auto_flow": null,
            "grid_auto_rows": null,
            "grid_column": null,
            "grid_gap": null,
            "grid_row": null,
            "grid_template_areas": null,
            "grid_template_columns": null,
            "grid_template_rows": null,
            "height": null,
            "justify_content": null,
            "justify_items": null,
            "left": null,
            "margin": null,
            "max_height": null,
            "max_width": null,
            "min_height": null,
            "min_width": null,
            "object_fit": null,
            "object_position": null,
            "order": null,
            "overflow": null,
            "overflow_x": null,
            "overflow_y": null,
            "padding": null,
            "right": null,
            "top": null,
            "visibility": null,
            "width": null
          }
        },
        "511e2a685c3a4fcab3f80b830de4fb09": {
          "model_module": "@jupyter-widgets/controls",
          "model_name": "ButtonStyleModel",
          "model_module_version": "1.5.0",
          "state": {
            "_model_module": "@jupyter-widgets/controls",
            "_model_module_version": "1.5.0",
            "_model_name": "ButtonStyleModel",
            "_view_count": null,
            "_view_module": "@jupyter-widgets/base",
            "_view_module_version": "1.2.0",
            "_view_name": "StyleView",
            "button_color": null,
            "font_weight": ""
          }
        }
      }
    }
  },
  "nbformat": 4,
  "nbformat_minor": 0
}